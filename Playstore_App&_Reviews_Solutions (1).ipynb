{
  "nbformat": 4,
  "nbformat_minor": 0,
  "metadata": {
    "colab": {
      "provenance": []
    },
    "kernelspec": {
      "name": "python3",
      "display_name": "Python 3"
    },
    "language_info": {
      "name": "python"
    }
  },
  "cells": [
    {
      "cell_type": "markdown",
      "source": [
        "# TEAM:  HUSKIES UNSTOPPABLE"
      ],
      "metadata": {
        "id": "NrMAVRBBCYEq"
      }
    },
    {
      "cell_type": "code",
      "execution_count": null,
      "metadata": {
        "id": "iSOkqzDh1DuV"
      },
      "outputs": [],
      "source": [
        "import numpy as np\n",
        "import pandas as pd\n",
        "import matplotlib.pyplot as plt\n",
        "import seaborn as sns"
      ]
    },
    {
      "cell_type": "code",
      "source": [
        "df= pd.read_csv(\"/content/PLAYSTORE_App.csv\")\n",
        "df.head()"
      ],
      "metadata": {
        "colab": {
          "base_uri": "https://localhost:8080/",
          "height": 328
        },
        "id": "_q4hBeeb1L6K",
        "outputId": "39e5345a-4281-49a1-a968-969890e66a30"
      },
      "execution_count": null,
      "outputs": [
        {
          "output_type": "error",
          "ename": "FileNotFoundError",
          "evalue": "ignored",
          "traceback": [
            "\u001b[0;31m---------------------------------------------------------------------------\u001b[0m",
            "\u001b[0;31mFileNotFoundError\u001b[0m                         Traceback (most recent call last)",
            "\u001b[0;32m<ipython-input-2-cd25c0e3acc2>\u001b[0m in \u001b[0;36m<module>\u001b[0;34m\u001b[0m\n\u001b[0;32m----> 1\u001b[0;31m \u001b[0mdf\u001b[0m\u001b[0;34m=\u001b[0m \u001b[0mpd\u001b[0m\u001b[0;34m.\u001b[0m\u001b[0mread_csv\u001b[0m\u001b[0;34m(\u001b[0m\u001b[0;34m\"/content/PLAYSTORE_App.csv\"\u001b[0m\u001b[0;34m)\u001b[0m\u001b[0;34m\u001b[0m\u001b[0;34m\u001b[0m\u001b[0m\n\u001b[0m\u001b[1;32m      2\u001b[0m \u001b[0mdf\u001b[0m\u001b[0;34m.\u001b[0m\u001b[0mhead\u001b[0m\u001b[0;34m(\u001b[0m\u001b[0;34m)\u001b[0m\u001b[0;34m\u001b[0m\u001b[0;34m\u001b[0m\u001b[0m\n",
            "\u001b[0;32m/usr/local/lib/python3.9/dist-packages/pandas/util/_decorators.py\u001b[0m in \u001b[0;36mwrapper\u001b[0;34m(*args, **kwargs)\u001b[0m\n\u001b[1;32m    309\u001b[0m                     \u001b[0mstacklevel\u001b[0m\u001b[0;34m=\u001b[0m\u001b[0mstacklevel\u001b[0m\u001b[0;34m,\u001b[0m\u001b[0;34m\u001b[0m\u001b[0;34m\u001b[0m\u001b[0m\n\u001b[1;32m    310\u001b[0m                 )\n\u001b[0;32m--> 311\u001b[0;31m             \u001b[0;32mreturn\u001b[0m \u001b[0mfunc\u001b[0m\u001b[0;34m(\u001b[0m\u001b[0;34m*\u001b[0m\u001b[0margs\u001b[0m\u001b[0;34m,\u001b[0m \u001b[0;34m**\u001b[0m\u001b[0mkwargs\u001b[0m\u001b[0;34m)\u001b[0m\u001b[0;34m\u001b[0m\u001b[0;34m\u001b[0m\u001b[0m\n\u001b[0m\u001b[1;32m    312\u001b[0m \u001b[0;34m\u001b[0m\u001b[0m\n\u001b[1;32m    313\u001b[0m         \u001b[0;32mreturn\u001b[0m \u001b[0mwrapper\u001b[0m\u001b[0;34m\u001b[0m\u001b[0;34m\u001b[0m\u001b[0m\n",
            "\u001b[0;32m/usr/local/lib/python3.9/dist-packages/pandas/io/parsers/readers.py\u001b[0m in \u001b[0;36mread_csv\u001b[0;34m(filepath_or_buffer, sep, delimiter, header, names, index_col, usecols, squeeze, prefix, mangle_dupe_cols, dtype, engine, converters, true_values, false_values, skipinitialspace, skiprows, skipfooter, nrows, na_values, keep_default_na, na_filter, verbose, skip_blank_lines, parse_dates, infer_datetime_format, keep_date_col, date_parser, dayfirst, cache_dates, iterator, chunksize, compression, thousands, decimal, lineterminator, quotechar, quoting, doublequote, escapechar, comment, encoding, encoding_errors, dialect, error_bad_lines, warn_bad_lines, on_bad_lines, delim_whitespace, low_memory, memory_map, float_precision, storage_options)\u001b[0m\n\u001b[1;32m    676\u001b[0m     \u001b[0mkwds\u001b[0m\u001b[0;34m.\u001b[0m\u001b[0mupdate\u001b[0m\u001b[0;34m(\u001b[0m\u001b[0mkwds_defaults\u001b[0m\u001b[0;34m)\u001b[0m\u001b[0;34m\u001b[0m\u001b[0;34m\u001b[0m\u001b[0m\n\u001b[1;32m    677\u001b[0m \u001b[0;34m\u001b[0m\u001b[0m\n\u001b[0;32m--> 678\u001b[0;31m     \u001b[0;32mreturn\u001b[0m \u001b[0m_read\u001b[0m\u001b[0;34m(\u001b[0m\u001b[0mfilepath_or_buffer\u001b[0m\u001b[0;34m,\u001b[0m \u001b[0mkwds\u001b[0m\u001b[0;34m)\u001b[0m\u001b[0;34m\u001b[0m\u001b[0;34m\u001b[0m\u001b[0m\n\u001b[0m\u001b[1;32m    679\u001b[0m \u001b[0;34m\u001b[0m\u001b[0m\n\u001b[1;32m    680\u001b[0m \u001b[0;34m\u001b[0m\u001b[0m\n",
            "\u001b[0;32m/usr/local/lib/python3.9/dist-packages/pandas/io/parsers/readers.py\u001b[0m in \u001b[0;36m_read\u001b[0;34m(filepath_or_buffer, kwds)\u001b[0m\n\u001b[1;32m    573\u001b[0m \u001b[0;34m\u001b[0m\u001b[0m\n\u001b[1;32m    574\u001b[0m     \u001b[0;31m# Create the parser.\u001b[0m\u001b[0;34m\u001b[0m\u001b[0;34m\u001b[0m\u001b[0m\n\u001b[0;32m--> 575\u001b[0;31m     \u001b[0mparser\u001b[0m \u001b[0;34m=\u001b[0m \u001b[0mTextFileReader\u001b[0m\u001b[0;34m(\u001b[0m\u001b[0mfilepath_or_buffer\u001b[0m\u001b[0;34m,\u001b[0m \u001b[0;34m**\u001b[0m\u001b[0mkwds\u001b[0m\u001b[0;34m)\u001b[0m\u001b[0;34m\u001b[0m\u001b[0;34m\u001b[0m\u001b[0m\n\u001b[0m\u001b[1;32m    576\u001b[0m \u001b[0;34m\u001b[0m\u001b[0m\n\u001b[1;32m    577\u001b[0m     \u001b[0;32mif\u001b[0m \u001b[0mchunksize\u001b[0m \u001b[0;32mor\u001b[0m \u001b[0miterator\u001b[0m\u001b[0;34m:\u001b[0m\u001b[0;34m\u001b[0m\u001b[0;34m\u001b[0m\u001b[0m\n",
            "\u001b[0;32m/usr/local/lib/python3.9/dist-packages/pandas/io/parsers/readers.py\u001b[0m in \u001b[0;36m__init__\u001b[0;34m(self, f, engine, **kwds)\u001b[0m\n\u001b[1;32m    930\u001b[0m \u001b[0;34m\u001b[0m\u001b[0m\n\u001b[1;32m    931\u001b[0m         \u001b[0mself\u001b[0m\u001b[0;34m.\u001b[0m\u001b[0mhandles\u001b[0m\u001b[0;34m:\u001b[0m \u001b[0mIOHandles\u001b[0m \u001b[0;34m|\u001b[0m \u001b[0;32mNone\u001b[0m \u001b[0;34m=\u001b[0m \u001b[0;32mNone\u001b[0m\u001b[0;34m\u001b[0m\u001b[0;34m\u001b[0m\u001b[0m\n\u001b[0;32m--> 932\u001b[0;31m         \u001b[0mself\u001b[0m\u001b[0;34m.\u001b[0m\u001b[0m_engine\u001b[0m \u001b[0;34m=\u001b[0m \u001b[0mself\u001b[0m\u001b[0;34m.\u001b[0m\u001b[0m_make_engine\u001b[0m\u001b[0;34m(\u001b[0m\u001b[0mf\u001b[0m\u001b[0;34m,\u001b[0m \u001b[0mself\u001b[0m\u001b[0;34m.\u001b[0m\u001b[0mengine\u001b[0m\u001b[0;34m)\u001b[0m\u001b[0;34m\u001b[0m\u001b[0;34m\u001b[0m\u001b[0m\n\u001b[0m\u001b[1;32m    933\u001b[0m \u001b[0;34m\u001b[0m\u001b[0m\n\u001b[1;32m    934\u001b[0m     \u001b[0;32mdef\u001b[0m \u001b[0mclose\u001b[0m\u001b[0;34m(\u001b[0m\u001b[0mself\u001b[0m\u001b[0;34m)\u001b[0m\u001b[0;34m:\u001b[0m\u001b[0;34m\u001b[0m\u001b[0;34m\u001b[0m\u001b[0m\n",
            "\u001b[0;32m/usr/local/lib/python3.9/dist-packages/pandas/io/parsers/readers.py\u001b[0m in \u001b[0;36m_make_engine\u001b[0;34m(self, f, engine)\u001b[0m\n\u001b[1;32m   1214\u001b[0m             \u001b[0;31m# \"Union[str, PathLike[str], ReadCsvBuffer[bytes], ReadCsvBuffer[str]]\"\u001b[0m\u001b[0;34m\u001b[0m\u001b[0;34m\u001b[0m\u001b[0m\n\u001b[1;32m   1215\u001b[0m             \u001b[0;31m# , \"str\", \"bool\", \"Any\", \"Any\", \"Any\", \"Any\", \"Any\"\u001b[0m\u001b[0;34m\u001b[0m\u001b[0;34m\u001b[0m\u001b[0m\n\u001b[0;32m-> 1216\u001b[0;31m             self.handles = get_handle(  # type: ignore[call-overload]\n\u001b[0m\u001b[1;32m   1217\u001b[0m                 \u001b[0mf\u001b[0m\u001b[0;34m,\u001b[0m\u001b[0;34m\u001b[0m\u001b[0;34m\u001b[0m\u001b[0m\n\u001b[1;32m   1218\u001b[0m                 \u001b[0mmode\u001b[0m\u001b[0;34m,\u001b[0m\u001b[0;34m\u001b[0m\u001b[0;34m\u001b[0m\u001b[0m\n",
            "\u001b[0;32m/usr/local/lib/python3.9/dist-packages/pandas/io/common.py\u001b[0m in \u001b[0;36mget_handle\u001b[0;34m(path_or_buf, mode, encoding, compression, memory_map, is_text, errors, storage_options)\u001b[0m\n\u001b[1;32m    784\u001b[0m         \u001b[0;32mif\u001b[0m \u001b[0mioargs\u001b[0m\u001b[0;34m.\u001b[0m\u001b[0mencoding\u001b[0m \u001b[0;32mand\u001b[0m \u001b[0;34m\"b\"\u001b[0m \u001b[0;32mnot\u001b[0m \u001b[0;32min\u001b[0m \u001b[0mioargs\u001b[0m\u001b[0;34m.\u001b[0m\u001b[0mmode\u001b[0m\u001b[0;34m:\u001b[0m\u001b[0;34m\u001b[0m\u001b[0;34m\u001b[0m\u001b[0m\n\u001b[1;32m    785\u001b[0m             \u001b[0;31m# Encoding\u001b[0m\u001b[0;34m\u001b[0m\u001b[0;34m\u001b[0m\u001b[0m\n\u001b[0;32m--> 786\u001b[0;31m             handle = open(\n\u001b[0m\u001b[1;32m    787\u001b[0m                 \u001b[0mhandle\u001b[0m\u001b[0;34m,\u001b[0m\u001b[0;34m\u001b[0m\u001b[0;34m\u001b[0m\u001b[0m\n\u001b[1;32m    788\u001b[0m                 \u001b[0mioargs\u001b[0m\u001b[0;34m.\u001b[0m\u001b[0mmode\u001b[0m\u001b[0;34m,\u001b[0m\u001b[0;34m\u001b[0m\u001b[0;34m\u001b[0m\u001b[0m\n",
            "\u001b[0;31mFileNotFoundError\u001b[0m: [Errno 2] No such file or directory: '/content/PLAYSTORE_App.csv'"
          ]
        }
      ]
    },
    {
      "cell_type": "code",
      "source": [
        "df.columns"
      ],
      "metadata": {
        "id": "UHQiXxCW1MA-"
      },
      "execution_count": null,
      "outputs": []
    },
    {
      "cell_type": "markdown",
      "source": [
        "(1) Which apps have the highest rating in the given available dataset?\n"
      ],
      "metadata": {
        "id": "As9tPObZc9au"
      }
    },
    {
      "cell_type": "code",
      "source": [
        "a = df['Rating'].max()\n",
        "a"
      ],
      "metadata": {
        "id": "qljE8onsb2hJ"
      },
      "execution_count": null,
      "outputs": []
    },
    {
      "cell_type": "code",
      "source": [
        "data = df[df['Rating'] == df['Rating'].max()][['App','Rating']]\n",
        "data"
      ],
      "metadata": {
        "id": "UAm9sDmTb2r9"
      },
      "execution_count": null,
      "outputs": []
    },
    {
      "cell_type": "markdown",
      "source": [
        "(2) What are the number of installs and reviews for the above apps? Return the apps with the highest reviews to the top."
      ],
      "metadata": {
        "id": "pGWbBNeEistY"
      }
    },
    {
      "cell_type": "code",
      "source": [
        "data = df[df['Rating'] == df['Rating'].max()][['App','Rating','Reviews']]\n",
        "data.sort_values('Reviews', ascending=False).head()"
      ],
      "metadata": {
        "id": "G0z7umFkb23O"
      },
      "execution_count": null,
      "outputs": []
    },
    {
      "cell_type": "markdown",
      "source": [
        "(3) Which app has the highest number of reviews? Also, mention the number of reviews and category of the app?"
      ],
      "metadata": {
        "id": "ajGEq-e_lEZ7"
      }
    },
    {
      "cell_type": "code",
      "source": [
        "data1=df.groupby(['App','Category'])['Reviews'].sum().sort_values(ascending=False)\n",
        "data1.iloc[:1]"
      ],
      "metadata": {
        "id": "TQSZdrPub4g6"
      },
      "execution_count": null,
      "outputs": []
    },
    {
      "cell_type": "markdown",
      "source": [
        "(4) What is the total amount of revenue generated by the google play store by hosting apps? (Whenever a user buys apps  from the google play store, the amount is considered in the revenue)\n"
      ],
      "metadata": {
        "id": "fOy6EpLL3H5B"
      }
    },
    {
      "cell_type": "code",
      "source": [
        "revenue= df['Price'].sum()\n",
        "print(\"Total Revenue generated by the hosted Apps $\", revenue)"
      ],
      "metadata": {
        "id": "JuwAUbvt1MeS"
      },
      "execution_count": null,
      "outputs": []
    },
    {
      "cell_type": "markdown",
      "source": [
        "(5) Which Category of google play store apps has the highest number of installs? also, find out the total number of installs for that particular category."
      ],
      "metadata": {
        "id": "nr22mBCx9kw7"
      }
    },
    {
      "cell_type": "code",
      "source": [
        "high_installs= df.groupby(['App','Category'])['Installs'].sum().sort_values(ascending=False)\n",
        "high_installs.iloc[:1]"
      ],
      "metadata": {
        "id": "n46r04pP9kCj"
      },
      "execution_count": null,
      "outputs": []
    },
    {
      "cell_type": "markdown",
      "source": [
        "(6) Which Genre has the most number of published apps?"
      ],
      "metadata": {
        "id": "hzaMKSIDICOF"
      }
    },
    {
      "cell_type": "code",
      "source": [
        "genre= df[\"Genres\"].value_counts()\n",
        "print(\"Genre that has most number of published apps \\n\")\n",
        "print(genre.iloc[:1])"
      ],
      "metadata": {
        "id": "YieB4XvPIA5Q"
      },
      "execution_count": null,
      "outputs": []
    },
    {
      "cell_type": "markdown",
      "source": [
        "(7) Provide the list of all games ordered in such a way that the game that has the highest number of installs is displayed on the top\n",
        "(to avoid duplicate results use distinct)\n",
        "\n",
        "\n"
      ],
      "metadata": {
        "id": "B1c3ycutMuef"
      }
    },
    {
      "cell_type": "code",
      "source": [
        "games=df.groupby(['App']).agg(Total_installs=('Installs', np.sum))\n",
        "Games = games.apply(lambda x: x.sort_values(ascending=False))\n",
        "Games.head()"
      ],
      "metadata": {
        "id": "IQw3scelIBDf"
      },
      "execution_count": null,
      "outputs": []
    },
    {
      "cell_type": "markdown",
      "source": [
        "(8) Provide the list of apps that can work on android version 4.0.3 and UP.\n",
        "\n"
      ],
      "metadata": {
        "id": "QOWzQWlpNbLA"
      }
    },
    {
      "cell_type": "code",
      "source": [
        "android_version= df[df[\"Android Ver\"] == '4.0.3 and up']\n",
        "android_version.loc[:, ['App', 'Android Ver']]"
      ],
      "metadata": {
        "id": "mjhmt7EtW75q"
      },
      "execution_count": null,
      "outputs": []
    },
    {
      "cell_type": "markdown",
      "source": [
        "(9) How many apps from the given data set are free? Also, provide the number of paid apps.\n",
        "\n",
        "\n"
      ],
      "metadata": {
        "id": "_TzHnIg0NeZa"
      }
    },
    {
      "cell_type": "code",
      "source": [
        "app_type = df.groupby(['Type']).count()\n",
        "app_type.loc[:,[\"App\"]]"
      ],
      "metadata": {
        "id": "hskO2ikiLV-d"
      },
      "execution_count": null,
      "outputs": []
    },
    {
      "cell_type": "markdown",
      "source": [
        "(10) Which is the best dating app? (Best dating app is the one having the highest number of Reviews)\n",
        "\n"
      ],
      "metadata": {
        "id": "0ZkekV9BNiyQ"
      }
    },
    {
      "cell_type": "code",
      "source": [
        "df['Category'].unique()"
      ],
      "metadata": {
        "id": "ovsXsLEdNg7g"
      },
      "execution_count": null,
      "outputs": []
    },
    {
      "cell_type": "code",
      "source": [
        "tmp = df[df['Category']=='DATING']\n",
        "tmp.head()"
      ],
      "metadata": {
        "id": "F4sU5Uhvr31C"
      },
      "execution_count": null,
      "outputs": []
    },
    {
      "cell_type": "code",
      "source": [
        "tmp1 = tmp.groupby(['App','Category']).agg(Total_reviews=('Reviews',np.sum))\n",
        "\n",
        "dating_app = tmp1.apply(lambda x: x.sort_values(ascending=False))\n",
        "dating_app.iloc[:1]"
      ],
      "metadata": {
        "id": "b_NLQjPofIBV"
      },
      "execution_count": null,
      "outputs": []
    },
    {
      "cell_type": "code",
      "source": [
        "df1=pd.read_csv(\"/content/playstore_reviewsnew.csv\")\n",
        "df1.head()"
      ],
      "metadata": {
        "id": "_HHeSKL2JqA_"
      },
      "execution_count": null,
      "outputs": []
    },
    {
      "cell_type": "markdown",
      "source": [
        "\n",
        "(11) Get the number of reviews having positive sentiment and number of reviews having negative sentiment for the app 10 best foods for you and compare them.\n",
        "\n"
      ],
      "metadata": {
        "id": "IYuVBITaKUfZ"
      }
    },
    {
      "cell_type": "code",
      "source": [
        "tmp = df1[(df1[\"App\"] ==\"10 Best Foods for You\") & (df1[\"Sentiment\"] == \"Negative\")].count()\n",
        "tmp2 = df1[(df1[\"App\"] ==\"10 Best Foods for You\") & (df1[\"Sentiment\"] == \"Positive\")].count()\n",
        "print(\"No of reviews having Negative sentiment for the App = 10 Best Foods for You \\n\",tmp.iloc[:1])\n",
        "print(\"No of reviews having Positive sentiment for the App = 10 Best Foods for You \\n\",tmp2.iloc[:1])"
      ],
      "metadata": {
        "id": "ixv4n3ThNZUp"
      },
      "execution_count": null,
      "outputs": []
    },
    {
      "cell_type": "markdown",
      "source": [
        "(12) Which comments of ASUS SuperNote have sentiment polarity and sentiment subjectivity both as 1?\n"
      ],
      "metadata": {
        "id": "fbkaGwSpN2V9"
      }
    },
    {
      "cell_type": "code",
      "source": [
        "ausus = df1[(df1[\"App\"] ==\"ASUS SuperNote\") & (df1[\"Sentiment_Polarity\"] == 1) & (df1[\"Sentiment_Subjectivity\"]== 1)]\n",
        "ausus"
      ],
      "metadata": {
        "id": "Xiq6qGqFNhbC"
      },
      "execution_count": null,
      "outputs": []
    },
    {
      "cell_type": "markdown",
      "source": [
        "\n",
        "\n",
        "(13) Get all the neutral sentiment reviews for the app Abs Training-Burn belly fat\n",
        "\n"
      ],
      "metadata": {
        "id": "2JY-eBg6N4qr"
      }
    },
    {
      "cell_type": "code",
      "source": [
        "abs= df1[(df1[\"App\"]=='Abs Training-Burn belly fat') & (df1[\"Sentiment\"]== \"Neutral\")].count()\n",
        "print(\"Neutral Sentiment Reviews for the App Abs Training-Burn belly fat  \\n\", abs.iloc[:1])"
      ],
      "metadata": {
        "id": "1KUIxjH4Nhqu"
      },
      "execution_count": null,
      "outputs": []
    },
    {
      "cell_type": "markdown",
      "source": [
        "(14) Extract all negative sentiment reviews for Adobe Acrobat Reader with their sentiment polarity and sentiment subjectivity"
      ],
      "metadata": {
        "id": "T9lMeHqkN9d9"
      }
    },
    {
      "cell_type": "code",
      "source": [
        "aar= df1[(df1[\"App\"]=='Adobe Acrobat Reader') & (df1[\"Sentiment\"]== \"Negative\")]\n",
        "aar"
      ],
      "metadata": {
        "id": "Nrxiw5FgN6tP"
      },
      "execution_count": null,
      "outputs": []
    },
    {
      "cell_type": "markdown",
      "source": [
        "                                                                             *** THANK YOU ***"
      ],
      "metadata": {
        "id": "CmnYYZ9ZBHBv"
      }
    }
  ]
}